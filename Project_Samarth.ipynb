{
 "cells": [
  {
   "cell_type": "code",
   "execution_count": 105,
   "id": "ab66dbe6-9b41-4743-91f4-d14cf7c7cb3b",
   "metadata": {},
   "outputs": [],
   "source": [
    "import pandas as pd"
   ]
  },
  {
   "cell_type": "code",
   "execution_count": 106,
   "id": "96340f53-0779-4f83-9f6e-f070d02fc57b",
   "metadata": {},
   "outputs": [],
   "source": [
    "crop_df = pd.read_csv(\"crop.csv\")\n",
    "rain_df = pd.read_csv(\"rain.csv\")"
   ]
  },
  {
   "cell_type": "code",
   "execution_count": 107,
   "id": "8d0f7fb5-9a88-4954-818c-6e1bac7c01e3",
   "metadata": {},
   "outputs": [
    {
     "data": {
      "text/plain": [
       "(345407, 10)"
      ]
     },
     "execution_count": 107,
     "metadata": {},
     "output_type": "execute_result"
    }
   ],
   "source": [
    "crop_df.shape"
   ]
  },
  {
   "cell_type": "code",
   "execution_count": 108,
   "id": "36a714c9-1ee4-4745-987b-c4e209763b65",
   "metadata": {},
   "outputs": [
    {
     "data": {
      "text/plain": [
       "(4188, 19)"
      ]
     },
     "execution_count": 108,
     "metadata": {},
     "output_type": "execute_result"
    }
   ],
   "source": [
    "rain_df.shape"
   ]
  },
  {
   "cell_type": "code",
   "execution_count": 109,
   "id": "06026c4a-d137-4008-8312-905c450b15c8",
   "metadata": {},
   "outputs": [
    {
     "data": {
      "text/plain": [
       "['State',\n",
       " 'District',\n",
       " 'Crop',\n",
       " 'Year',\n",
       " 'Season',\n",
       " 'Area',\n",
       " 'Area Units',\n",
       " 'Production',\n",
       " 'Production Units',\n",
       " 'Yield']"
      ]
     },
     "execution_count": 109,
     "metadata": {},
     "output_type": "execute_result"
    }
   ],
   "source": [
    "list(crop_df.columns)"
   ]
  },
  {
   "cell_type": "code",
   "execution_count": 110,
   "id": "d8ce0264-2023-42c7-9d4b-785455fb1160",
   "metadata": {},
   "outputs": [
    {
     "data": {
      "text/plain": [
       "['SUBDIVISION',\n",
       " 'YEAR',\n",
       " 'JAN',\n",
       " 'FEB',\n",
       " 'MAR',\n",
       " 'APR',\n",
       " 'MAY',\n",
       " 'JUN',\n",
       " 'JUL',\n",
       " 'AUG',\n",
       " 'SEP',\n",
       " 'OCT',\n",
       " 'NOV',\n",
       " 'DEC',\n",
       " 'ANNUAL',\n",
       " 'JF',\n",
       " 'MAM',\n",
       " 'JJAS',\n",
       " 'OND']"
      ]
     },
     "execution_count": 110,
     "metadata": {},
     "output_type": "execute_result"
    }
   ],
   "source": [
    "list(rain_df.columns)"
   ]
  },
  {
   "cell_type": "code",
   "execution_count": 111,
   "id": "08b12a40-3538-42ba-ae00-a8d900a3c1fc",
   "metadata": {},
   "outputs": [],
   "source": [
    "crop_df.columns = crop_df.columns.str.strip()\n",
    "rain_df.columns = rain_df.columns.str.strip()"
   ]
  },
  {
   "cell_type": "code",
   "execution_count": 112,
   "id": "5c531d89-ee70-46ee-81d5-569f01a5c919",
   "metadata": {},
   "outputs": [
    {
     "data": {
      "text/plain": [
       "0    2001-02\n",
       "1    2002-03\n",
       "2    2003-04\n",
       "3    2001-02\n",
       "4    2002-03\n",
       "Name: Year, dtype: object"
      ]
     },
     "execution_count": 112,
     "metadata": {},
     "output_type": "execute_result"
    }
   ],
   "source": [
    "crop_df['Year'].head()"
   ]
  },
  {
   "cell_type": "code",
   "execution_count": 113,
   "id": "4b0355ed-094d-4aa3-b28f-799417459336",
   "metadata": {},
   "outputs": [],
   "source": [
    "crop_df['Year'] = crop_df['Year'].astype(str).str.extract(r'(\\d{4})')\n",
    "crop_df['Year'] = pd.to_numeric(crop_df['Year'], errors='coerce')"
   ]
  },
  {
   "cell_type": "code",
   "execution_count": 114,
   "id": "cc0bed7e-0369-4a0c-b9cd-561c87a51ff0",
   "metadata": {},
   "outputs": [
    {
     "name": "stdout",
     "output_type": "stream",
     "text": [
      "0\n"
     ]
    }
   ],
   "source": [
    "missing_years = crop_df['Year'].isna().sum()\n",
    "print(missing_years)"
   ]
  },
  {
   "cell_type": "code",
   "execution_count": 115,
   "id": "238d7bcc-ad83-497c-8c4f-9352d67ea049",
   "metadata": {},
   "outputs": [],
   "source": [
    "crop_df = crop_df.dropna(subset=['Year'])\n",
    "crop_df['Year'] = crop_df['Year'].astype(int)"
   ]
  },
  {
   "cell_type": "code",
   "execution_count": 116,
   "id": "5932a436-063f-4db4-be1b-5c40672458dc",
   "metadata": {},
   "outputs": [
    {
     "data": {
      "text/plain": [
       "State                  0\n",
       "District               0\n",
       "Crop                  32\n",
       "Year                   0\n",
       "Season                 1\n",
       "Area                  33\n",
       "Area Units             0\n",
       "Production          4993\n",
       "Production Units       0\n",
       "Yield                 33\n",
       "dtype: int64"
      ]
     },
     "execution_count": 116,
     "metadata": {},
     "output_type": "execute_result"
    }
   ],
   "source": [
    "crop_df.isna().sum()"
   ]
  },
  {
   "cell_type": "code",
   "execution_count": 117,
   "id": "056e8de2-6305-40f6-9e90-4eb29bc74112",
   "metadata": {},
   "outputs": [],
   "source": [
    "crop_df = crop_df.dropna(subset=['State', 'Crop', 'Production'])"
   ]
  },
  {
   "cell_type": "code",
   "execution_count": 118,
   "id": "2420f0aa-8969-4626-9097-10893138545f",
   "metadata": {},
   "outputs": [
    {
     "name": "stdout",
     "output_type": "stream",
     "text": [
      "1024\n"
     ]
    }
   ],
   "source": [
    "invalid_prod = (crop_df['Production'] <= 0).sum()\n",
    "print(invalid_prod)\n",
    "crop_df = crop_df[crop_df['Production'] > 0]"
   ]
  },
  {
   "cell_type": "code",
   "execution_count": 119,
   "id": "b53bf034-a0c9-4814-902e-6c8925a1a7a8",
   "metadata": {},
   "outputs": [],
   "source": [
    "crop_df = crop_df[['State', 'District', 'Crop', 'Year', 'Season', 'Area', 'Production', 'Yield']]"
   ]
  },
  {
   "cell_type": "code",
   "execution_count": 120,
   "id": "16f9d9b5-8f1b-4681-8809-d68269287070",
   "metadata": {},
   "outputs": [
    {
     "data": {
      "text/plain": [
       "Index(['SUBDIVISION', 'YEAR', 'JAN', 'FEB', 'MAR', 'APR', 'MAY', 'JUN', 'JUL',\n",
       "       'AUG', 'SEP', 'OCT', 'NOV', 'DEC', 'ANNUAL', 'JF', 'MAM', 'JJAS',\n",
       "       'OND'],\n",
       "      dtype='object')"
      ]
     },
     "execution_count": 120,
     "metadata": {},
     "output_type": "execute_result"
    }
   ],
   "source": [
    "rain_df.columns"
   ]
  },
  {
   "cell_type": "code",
   "execution_count": 121,
   "id": "f4c80de7-1b22-4ecc-aa87-131c70029d86",
   "metadata": {},
   "outputs": [],
   "source": [
    "rain_df.rename(columns={'SUBDIVISION': 'State', 'YEAR': 'Year', 'ANNUAL': 'Annual_Rainfall'}, inplace=True)"
   ]
  },
  {
   "cell_type": "code",
   "execution_count": 122,
   "id": "430fc76f-6eb4-49a1-894b-46835acbc939",
   "metadata": {},
   "outputs": [],
   "source": [
    "rain_df = rain_df[['State', 'Year', 'Annual_Rainfall']]"
   ]
  },
  {
   "cell_type": "code",
   "execution_count": 123,
   "id": "b5b416b8-d40a-4174-95a5-760085c26bd7",
   "metadata": {},
   "outputs": [
    {
     "name": "stdout",
     "output_type": "stream",
     "text": [
      "0\n"
     ]
    }
   ],
   "source": [
    "invalid_rain = (rain_df['Annual_Rainfall'] <= 0).sum()\n",
    "print(invalid_rain)\n",
    "rain_df = rain_df[rain_df['Annual_Rainfall'] > 0]"
   ]
  },
  {
   "cell_type": "code",
   "execution_count": 124,
   "id": "9e729dc8-f73a-45ed-a772-c69f0ce11aa1",
   "metadata": {},
   "outputs": [
    {
     "data": {
      "text/plain": [
       "array(['Andaman and Nicobar Islands', 'Andhra Pradesh',\n",
       "       'Arunachal Pradesh', 'Assam', 'Bihar'], dtype=object)"
      ]
     },
     "execution_count": 124,
     "metadata": {},
     "output_type": "execute_result"
    }
   ],
   "source": [
    "crop_df['State'].unique()[:5]"
   ]
  },
  {
   "cell_type": "code",
   "execution_count": 125,
   "id": "96102b88-20d5-4bfa-959e-0e5d9e042930",
   "metadata": {},
   "outputs": [
    {
     "data": {
      "text/plain": [
       "array(['Andaman & Nicobar Islands', 'Arunachal Pradesh',\n",
       "       'Assam & Meghalaya', 'Naga Mani Mizo Tripura',\n",
       "       'Sub Himalayan West Bengal & Sikkim'], dtype=object)"
      ]
     },
     "execution_count": 125,
     "metadata": {},
     "output_type": "execute_result"
    }
   ],
   "source": [
    "rain_df['State'].unique()[:5]"
   ]
  },
  {
   "cell_type": "code",
   "execution_count": 126,
   "id": "9ac2d275-af8f-4734-ad09-628100068fe1",
   "metadata": {},
   "outputs": [],
   "source": [
    "state_mapping = {\n",
    "    'Andaman & Nicobar Islands': 'Andaman and Nicobar Islands',\n",
    "}\n",
    "rain_df['State'] = rain_df['State'].replace(state_mapping)"
   ]
  },
  {
   "cell_type": "code",
   "execution_count": 127,
   "id": "7e2c85bf-4c72-49a2-9223-1418223c0e0a",
   "metadata": {},
   "outputs": [
    {
     "name": "stdout",
     "output_type": "stream",
     "text": [
      "Merged dataset: (80036, 9)\n"
     ]
    }
   ],
   "source": [
    "merged_df = pd.merge(crop_df, rain_df, on=['State', 'Year'], how='inner')\n",
    "print(\"Merged dataset:\", merged_df.shape)"
   ]
  },
  {
   "cell_type": "code",
   "execution_count": 128,
   "id": "66faadd6-0695-47c5-afa3-f54660cfa1e3",
   "metadata": {},
   "outputs": [
    {
     "data": {
      "text/html": [
       "<div>\n",
       "<style scoped>\n",
       "    .dataframe tbody tr th:only-of-type {\n",
       "        vertical-align: middle;\n",
       "    }\n",
       "\n",
       "    .dataframe tbody tr th {\n",
       "        vertical-align: top;\n",
       "    }\n",
       "\n",
       "    .dataframe thead th {\n",
       "        text-align: right;\n",
       "    }\n",
       "</style>\n",
       "<table border=\"1\" class=\"dataframe\">\n",
       "  <thead>\n",
       "    <tr style=\"text-align: right;\">\n",
       "      <th></th>\n",
       "      <th>State</th>\n",
       "      <th>District</th>\n",
       "      <th>Crop</th>\n",
       "      <th>Year</th>\n",
       "      <th>Season</th>\n",
       "      <th>Area</th>\n",
       "      <th>Production</th>\n",
       "      <th>Yield</th>\n",
       "      <th>Annual_Rainfall</th>\n",
       "    </tr>\n",
       "  </thead>\n",
       "  <tbody>\n",
       "    <tr>\n",
       "      <th>0</th>\n",
       "      <td>Andaman and Nicobar Islands</td>\n",
       "      <td>NICOBARS</td>\n",
       "      <td>Arecanut</td>\n",
       "      <td>2001</td>\n",
       "      <td>Kharif</td>\n",
       "      <td>1254.0</td>\n",
       "      <td>2061.0</td>\n",
       "      <td>1.643541</td>\n",
       "      <td>3080.9</td>\n",
       "    </tr>\n",
       "    <tr>\n",
       "      <th>1</th>\n",
       "      <td>Andaman and Nicobar Islands</td>\n",
       "      <td>NICOBARS</td>\n",
       "      <td>Arecanut</td>\n",
       "      <td>2002</td>\n",
       "      <td>Whole Year</td>\n",
       "      <td>1258.0</td>\n",
       "      <td>2083.0</td>\n",
       "      <td>1.655803</td>\n",
       "      <td>2620.2</td>\n",
       "    </tr>\n",
       "    <tr>\n",
       "      <th>2</th>\n",
       "      <td>Andaman and Nicobar Islands</td>\n",
       "      <td>NICOBARS</td>\n",
       "      <td>Arecanut</td>\n",
       "      <td>2003</td>\n",
       "      <td>Whole Year</td>\n",
       "      <td>1261.0</td>\n",
       "      <td>1525.0</td>\n",
       "      <td>1.209358</td>\n",
       "      <td>2355.9</td>\n",
       "    </tr>\n",
       "    <tr>\n",
       "      <th>3</th>\n",
       "      <td>Andaman and Nicobar Islands</td>\n",
       "      <td>NORTH AND MIDDLE ANDAMAN</td>\n",
       "      <td>Arecanut</td>\n",
       "      <td>2001</td>\n",
       "      <td>Kharif</td>\n",
       "      <td>3100.0</td>\n",
       "      <td>5239.0</td>\n",
       "      <td>1.690000</td>\n",
       "      <td>3080.9</td>\n",
       "    </tr>\n",
       "    <tr>\n",
       "      <th>4</th>\n",
       "      <td>Andaman and Nicobar Islands</td>\n",
       "      <td>SOUTH ANDAMANS</td>\n",
       "      <td>Arecanut</td>\n",
       "      <td>2002</td>\n",
       "      <td>Whole Year</td>\n",
       "      <td>3105.0</td>\n",
       "      <td>5267.0</td>\n",
       "      <td>1.696296</td>\n",
       "      <td>2620.2</td>\n",
       "    </tr>\n",
       "  </tbody>\n",
       "</table>\n",
       "</div>"
      ],
      "text/plain": [
       "                         State                  District      Crop  Year  \\\n",
       "0  Andaman and Nicobar Islands                  NICOBARS  Arecanut  2001   \n",
       "1  Andaman and Nicobar Islands                  NICOBARS  Arecanut  2002   \n",
       "2  Andaman and Nicobar Islands                  NICOBARS  Arecanut  2003   \n",
       "3  Andaman and Nicobar Islands  NORTH AND MIDDLE ANDAMAN  Arecanut  2001   \n",
       "4  Andaman and Nicobar Islands            SOUTH ANDAMANS  Arecanut  2002   \n",
       "\n",
       "       Season    Area  Production     Yield  Annual_Rainfall  \n",
       "0      Kharif  1254.0      2061.0  1.643541           3080.9  \n",
       "1  Whole Year  1258.0      2083.0  1.655803           2620.2  \n",
       "2  Whole Year  1261.0      1525.0  1.209358           2355.9  \n",
       "3      Kharif  3100.0      5239.0  1.690000           3080.9  \n",
       "4  Whole Year  3105.0      5267.0  1.696296           2620.2  "
      ]
     },
     "execution_count": 128,
     "metadata": {},
     "output_type": "execute_result"
    }
   ],
   "source": [
    "merged_df.head()"
   ]
  },
  {
   "cell_type": "code",
   "execution_count": 129,
   "id": "838fcc09-58ad-4019-9b7a-b896d2975cb4",
   "metadata": {},
   "outputs": [],
   "source": [
    "merged_df.to_csv(\"Merged_Agri_Rainfall_Data.csv\", index=False)"
   ]
  }
 ],
 "metadata": {
  "kernelspec": {
   "display_name": "Python 3 (ipykernel)",
   "language": "python",
   "name": "python3"
  },
  "language_info": {
   "codemirror_mode": {
    "name": "ipython",
    "version": 3
   },
   "file_extension": ".py",
   "mimetype": "text/x-python",
   "name": "python",
   "nbconvert_exporter": "python",
   "pygments_lexer": "ipython3",
   "version": "3.13.3"
  }
 },
 "nbformat": 4,
 "nbformat_minor": 5
}
